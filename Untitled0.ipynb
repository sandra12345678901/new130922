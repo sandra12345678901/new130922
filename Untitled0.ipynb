{
  "nbformat": 4,
  "nbformat_minor": 0,
  "metadata": {
    "colab": {
      "provenance": [],
      "authorship_tag": "ABX9TyPTfvCwSuCnGLvkZ+aY3wIC",
      "include_colab_link": true
    },
    "kernelspec": {
      "name": "python3",
      "display_name": "Python 3"
    },
    "language_info": {
      "name": "python"
    }
  },
  "cells": [
    {
      "cell_type": "markdown",
      "metadata": {
        "id": "view-in-github",
        "colab_type": "text"
      },
      "source": [
        "<a href=\"https://colab.research.google.com/github/sandra12345678901/new130922/blob/main/Untitled0.ipynb\" target=\"_parent\"><img src=\"https://colab.research.google.com/assets/colab-badge.svg\" alt=\"Open In Colab\"/></a>"
      ]
    },
    {
      "cell_type": "code",
      "execution_count": 1,
      "metadata": {
        "colab": {
          "base_uri": "https://localhost:8080/"
        },
        "id": "NG1Qv7NoMBdp",
        "outputId": "03f96449-098e-41c7-8a47-dc4b54c1a2fd"
      },
      "outputs": [
        {
          "output_type": "stream",
          "name": "stdout",
          "text": [
            "Hallo\n"
          ]
        }
      ],
      "source": [
        "print(\"Hallo\")"
      ]
    },
    {
      "cell_type": "code",
      "source": [
        "url = 'https://data.statistik.gv.at/data/OGD_krebs_ext_KREBS_1.csv'"
      ],
      "metadata": {
        "id": "OtrdK9QrQE-k"
      },
      "execution_count": 4,
      "outputs": []
    }
  ]
}