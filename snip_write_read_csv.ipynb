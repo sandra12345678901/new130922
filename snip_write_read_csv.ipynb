{
  "nbformat": 4,
  "nbformat_minor": 0,
  "metadata": {
    "colab": {
      "provenance": [],
      "collapsed_sections": [],
      "include_colab_link": true
    },
    "kernelspec": {
      "name": "python3",
      "display_name": "Python 3"
    },
    "language_info": {
      "name": "python"
    }
  },
  "cells": [
    {
      "cell_type": "markdown",
      "metadata": {
        "id": "view-in-github",
        "colab_type": "text"
      },
      "source": [
        "<a href=\"https://colab.research.google.com/github/sandra12345678901/new130922/blob/main/snip_write_read_csv.ipynb\" target=\"_parent\"><img src=\"https://colab.research.google.com/assets/colab-badge.svg\" alt=\"Open In Colab\"/></a>"
      ]
    },
    {
      "cell_type": "markdown",
      "source": [
        "**Author: Alexander Kollmann, 08/2022**\n",
        "\n",
        "---\n",
        "\n",
        "**Funktion**\n",
        "\n",
        "Dataframe als CSV schreiben\n",
        "\n",
        "CSV als Dataframe lesen\n",
        "\n",
        "---\n",
        "\n",
        "**Referenzen**\n",
        "\n",
        "https://cyublog.com/articles/python-en/colab-pandas-three-ways-to-save-dataframe-data/\n",
        "\n",
        "https://www.shanelynn.ie/python-pandas-read-csv-load-data-from-csv-files/\n",
        "\n",
        "https://iq.opengenus.org/google-colab/\n",
        "\n",
        "https://pandas.pydata.org/pandas-docs/stable/reference/api/pandas.read_csv.html\n",
        "\n",
        "---\n",
        "\n"
      ],
      "metadata": {
        "id": "4Ba6v0iH9uUI"
      }
    },
    {
      "cell_type": "markdown",
      "source": [
        "# Schreiben von CSV-Dateien"
      ],
      "metadata": {
        "id": "2hsMHuvU_SeW"
      }
    },
    {
      "cell_type": "code",
      "source": [
        "from google.colab import files\n",
        "from google.colab import drive\n",
        "import pandas as pd\n",
        "import requests\n",
        "from io import StringIO"
      ],
      "metadata": {
        "id": "CdD2NG0ZxqTz"
      },
      "execution_count": null,
      "outputs": []
    },
    {
      "cell_type": "code",
      "source": [
        "# Test Dataframe erstellen mit Zahlen, Text und Umlauten bzw. Sonderzeichen\n",
        "data = {\n",
        "  \"calories\": [1, 2, 3],\n",
        "  \"duration\": [4, 5, 6],\n",
        "  \"info\": ['test1', 'test2', 'test3'],\n",
        "  \"uml\": ['äest4', 'Üest5', 'test6ßßßßß']\n",
        "}\n",
        "\n",
        "df = pd.DataFrame(data)"
      ],
      "metadata": {
        "id": "ibt-7KHbwiYE"
      },
      "execution_count": null,
      "outputs": []
    },
    {
      "cell_type": "code",
      "source": [
        "# Dataframe in CSV umwandeln und Datei runter laden\n",
        "# Achtung: mit mit Excel kann es zu Problemen mit der Datstellung der Umlaute kommen\n",
        "\n",
        "df.to_csv('output.csv', encoding = 'utf-8', index=False) \n",
        "files.download('output.csv')"
      ],
      "metadata": {
        "id": "drxAqRfpld6L",
        "colab": {
          "base_uri": "https://localhost:8080/",
          "height": 17
        },
        "outputId": "6ba25487-2cd1-45a9-e0ba-0786bd864cb2"
      },
      "execution_count": null,
      "outputs": [
        {
          "output_type": "display_data",
          "data": {
            "text/plain": [
              "<IPython.core.display.Javascript object>"
            ],
            "application/javascript": [
              "\n",
              "    async function download(id, filename, size) {\n",
              "      if (!google.colab.kernel.accessAllowed) {\n",
              "        return;\n",
              "      }\n",
              "      const div = document.createElement('div');\n",
              "      const label = document.createElement('label');\n",
              "      label.textContent = `Downloading \"${filename}\": `;\n",
              "      div.appendChild(label);\n",
              "      const progress = document.createElement('progress');\n",
              "      progress.max = size;\n",
              "      div.appendChild(progress);\n",
              "      document.body.appendChild(div);\n",
              "\n",
              "      const buffers = [];\n",
              "      let downloaded = 0;\n",
              "\n",
              "      const channel = await google.colab.kernel.comms.open(id);\n",
              "      // Send a message to notify the kernel that we're ready.\n",
              "      channel.send({})\n",
              "\n",
              "      for await (const message of channel.messages) {\n",
              "        // Send a message to notify the kernel that we're ready.\n",
              "        channel.send({})\n",
              "        if (message.buffers) {\n",
              "          for (const buffer of message.buffers) {\n",
              "            buffers.push(buffer);\n",
              "            downloaded += buffer.byteLength;\n",
              "            progress.value = downloaded;\n",
              "          }\n",
              "        }\n",
              "      }\n",
              "      const blob = new Blob(buffers, {type: 'application/binary'});\n",
              "      const a = document.createElement('a');\n",
              "      a.href = window.URL.createObjectURL(blob);\n",
              "      a.download = filename;\n",
              "      div.appendChild(a);\n",
              "      a.click();\n",
              "      div.remove();\n",
              "    }\n",
              "  "
            ]
          },
          "metadata": {}
        },
        {
          "output_type": "display_data",
          "data": {
            "text/plain": [
              "<IPython.core.display.Javascript object>"
            ],
            "application/javascript": [
              "download(\"download_9b7b5c9d-9ef8-4894-9ff2-7eb21c4e22c6\", \"output.csv\", 87)"
            ]
          },
          "metadata": {}
        }
      ]
    },
    {
      "cell_type": "code",
      "source": [
        "#  Dataframe in CSV umwandeln und in Google Drive speichern \n",
        "drive.mount('/content/drive/', force_remount=True)\n",
        "path = '/content/drive/MyDrive/data/output.csv'\n",
        "\n",
        "df.to_csv(path, sep=';', encoding='utf-8', index = False)"
      ],
      "metadata": {
        "colab": {
          "base_uri": "https://localhost:8080/"
        },
        "id": "gFaX0tV8zYm8",
        "outputId": "cc4a039f-87b5-43a0-ca03-8b71c3044eae"
      },
      "execution_count": null,
      "outputs": [
        {
          "output_type": "stream",
          "name": "stdout",
          "text": [
            "Mounted at /content/drive/\n"
          ]
        }
      ]
    },
    {
      "cell_type": "markdown",
      "source": [
        "# Lesen von CSV-Dateien"
      ],
      "metadata": {
        "id": "fGu4bEP7WRUL"
      }
    },
    {
      "cell_type": "code",
      "source": [
        "# Datei von Google Drive lesen (Wichtig: die Datei muss freigegeben werden)\n",
        "\n",
        "url='https://drive.google.com/file/d/132SKFpDRX4qfi2XBf_qWXJC9VdKVtKkY/view?usp=sharing'\n",
        "\n",
        "file_id=url.split('/')[-2]\n",
        "dwn_url='https://drive.google.com/uc?id=' + file_id\n",
        "df = pd.read_csv(dwn_url, sep=';')\n",
        "print(df.head())"
      ],
      "metadata": {
        "colab": {
          "base_uri": "https://localhost:8080/"
        },
        "id": "9xQiiChjojdu",
        "outputId": "0b3008d5-4368-430e-d4d5-af1f39960607"
      },
      "execution_count": null,
      "outputs": [
        {
          "output_type": "stream",
          "name": "stdout",
          "text": [
            "   calories  duration   info         uml\n",
            "0         1         4  test1       äest4\n",
            "1         2         5  test2       Üest5\n",
            "2         3         6  test3  test6ßßßßß\n"
          ]
        }
      ]
    },
    {
      "cell_type": "code",
      "source": [
        "# Datei von einer URL lesen - z.B. COVID-19 Schutzimpfungen - Ausgelieferte und bestellte Impfdosen\n",
        "# Datei in Dataframe umwandeln\n",
        "\n",
        "url = 'https://info.gesundheitsministerium.gv.at/data/timeline-bbg.csv'\n",
        "df = pd.read_csv(url, sep=';')"
      ],
      "metadata": {
        "id": "iYWKHOfS_uoa"
      },
      "execution_count": null,
      "outputs": []
    },
    {
      "cell_type": "code",
      "source": [
        "# Dataframe anzeigen\n",
        "df.head()"
      ],
      "metadata": {
        "id": "e_GARcPx2f-_",
        "colab": {
          "base_uri": "https://localhost:8080/",
          "height": 206
        },
        "outputId": "7989c7bb-51db-41de-91db-eaa417e312c3"
      },
      "execution_count": null,
      "outputs": [
        {
          "output_type": "execute_result",
          "data": {
            "text/plain": [
              "                       Datum  BundeslandID  Bevölkerung              Name  \\\n",
              "0  2021-01-09T23:59:59+01:00             0          NaN  Bundesverwaltung   \n",
              "1  2021-01-09T23:59:59+01:00             1     299235.0        Burgenland   \n",
              "2  2021-01-09T23:59:59+01:00             2     566166.0           Kärnten   \n",
              "3  2021-01-09T23:59:59+01:00             3    1708140.0  Niederösterreich   \n",
              "4  2021-01-09T23:59:59+01:00             4    1512226.0    Oberösterreich   \n",
              "\n",
              "   Auslieferungen  AuslieferungenPro100  Bestellungen  BestellungenPro100  \n",
              "0               0                   NaN             0                 NaN  \n",
              "1             355              0.118636          3995            1.335071  \n",
              "2             305              0.053871          6830            1.206360  \n",
              "3            9042              0.529348         20070            1.174962  \n",
              "4             520              0.034386         21395            1.414802  "
            ],
            "text/html": [
              "\n",
              "  <div id=\"df-dc25aaa1-52e7-4d53-a789-c295e62dba87\">\n",
              "    <div class=\"colab-df-container\">\n",
              "      <div>\n",
              "<style scoped>\n",
              "    .dataframe tbody tr th:only-of-type {\n",
              "        vertical-align: middle;\n",
              "    }\n",
              "\n",
              "    .dataframe tbody tr th {\n",
              "        vertical-align: top;\n",
              "    }\n",
              "\n",
              "    .dataframe thead th {\n",
              "        text-align: right;\n",
              "    }\n",
              "</style>\n",
              "<table border=\"1\" class=\"dataframe\">\n",
              "  <thead>\n",
              "    <tr style=\"text-align: right;\">\n",
              "      <th></th>\n",
              "      <th>Datum</th>\n",
              "      <th>BundeslandID</th>\n",
              "      <th>Bevölkerung</th>\n",
              "      <th>Name</th>\n",
              "      <th>Auslieferungen</th>\n",
              "      <th>AuslieferungenPro100</th>\n",
              "      <th>Bestellungen</th>\n",
              "      <th>BestellungenPro100</th>\n",
              "    </tr>\n",
              "  </thead>\n",
              "  <tbody>\n",
              "    <tr>\n",
              "      <th>0</th>\n",
              "      <td>2021-01-09T23:59:59+01:00</td>\n",
              "      <td>0</td>\n",
              "      <td>NaN</td>\n",
              "      <td>Bundesverwaltung</td>\n",
              "      <td>0</td>\n",
              "      <td>NaN</td>\n",
              "      <td>0</td>\n",
              "      <td>NaN</td>\n",
              "    </tr>\n",
              "    <tr>\n",
              "      <th>1</th>\n",
              "      <td>2021-01-09T23:59:59+01:00</td>\n",
              "      <td>1</td>\n",
              "      <td>299235.0</td>\n",
              "      <td>Burgenland</td>\n",
              "      <td>355</td>\n",
              "      <td>0.118636</td>\n",
              "      <td>3995</td>\n",
              "      <td>1.335071</td>\n",
              "    </tr>\n",
              "    <tr>\n",
              "      <th>2</th>\n",
              "      <td>2021-01-09T23:59:59+01:00</td>\n",
              "      <td>2</td>\n",
              "      <td>566166.0</td>\n",
              "      <td>Kärnten</td>\n",
              "      <td>305</td>\n",
              "      <td>0.053871</td>\n",
              "      <td>6830</td>\n",
              "      <td>1.206360</td>\n",
              "    </tr>\n",
              "    <tr>\n",
              "      <th>3</th>\n",
              "      <td>2021-01-09T23:59:59+01:00</td>\n",
              "      <td>3</td>\n",
              "      <td>1708140.0</td>\n",
              "      <td>Niederösterreich</td>\n",
              "      <td>9042</td>\n",
              "      <td>0.529348</td>\n",
              "      <td>20070</td>\n",
              "      <td>1.174962</td>\n",
              "    </tr>\n",
              "    <tr>\n",
              "      <th>4</th>\n",
              "      <td>2021-01-09T23:59:59+01:00</td>\n",
              "      <td>4</td>\n",
              "      <td>1512226.0</td>\n",
              "      <td>Oberösterreich</td>\n",
              "      <td>520</td>\n",
              "      <td>0.034386</td>\n",
              "      <td>21395</td>\n",
              "      <td>1.414802</td>\n",
              "    </tr>\n",
              "  </tbody>\n",
              "</table>\n",
              "</div>\n",
              "      <button class=\"colab-df-convert\" onclick=\"convertToInteractive('df-dc25aaa1-52e7-4d53-a789-c295e62dba87')\"\n",
              "              title=\"Convert this dataframe to an interactive table.\"\n",
              "              style=\"display:none;\">\n",
              "        \n",
              "  <svg xmlns=\"http://www.w3.org/2000/svg\" height=\"24px\"viewBox=\"0 0 24 24\"\n",
              "       width=\"24px\">\n",
              "    <path d=\"M0 0h24v24H0V0z\" fill=\"none\"/>\n",
              "    <path d=\"M18.56 5.44l.94 2.06.94-2.06 2.06-.94-2.06-.94-.94-2.06-.94 2.06-2.06.94zm-11 1L8.5 8.5l.94-2.06 2.06-.94-2.06-.94L8.5 2.5l-.94 2.06-2.06.94zm10 10l.94 2.06.94-2.06 2.06-.94-2.06-.94-.94-2.06-.94 2.06-2.06.94z\"/><path d=\"M17.41 7.96l-1.37-1.37c-.4-.4-.92-.59-1.43-.59-.52 0-1.04.2-1.43.59L10.3 9.45l-7.72 7.72c-.78.78-.78 2.05 0 2.83L4 21.41c.39.39.9.59 1.41.59.51 0 1.02-.2 1.41-.59l7.78-7.78 2.81-2.81c.8-.78.8-2.07 0-2.86zM5.41 20L4 18.59l7.72-7.72 1.47 1.35L5.41 20z\"/>\n",
              "  </svg>\n",
              "      </button>\n",
              "      \n",
              "  <style>\n",
              "    .colab-df-container {\n",
              "      display:flex;\n",
              "      flex-wrap:wrap;\n",
              "      gap: 12px;\n",
              "    }\n",
              "\n",
              "    .colab-df-convert {\n",
              "      background-color: #E8F0FE;\n",
              "      border: none;\n",
              "      border-radius: 50%;\n",
              "      cursor: pointer;\n",
              "      display: none;\n",
              "      fill: #1967D2;\n",
              "      height: 32px;\n",
              "      padding: 0 0 0 0;\n",
              "      width: 32px;\n",
              "    }\n",
              "\n",
              "    .colab-df-convert:hover {\n",
              "      background-color: #E2EBFA;\n",
              "      box-shadow: 0px 1px 2px rgba(60, 64, 67, 0.3), 0px 1px 3px 1px rgba(60, 64, 67, 0.15);\n",
              "      fill: #174EA6;\n",
              "    }\n",
              "\n",
              "    [theme=dark] .colab-df-convert {\n",
              "      background-color: #3B4455;\n",
              "      fill: #D2E3FC;\n",
              "    }\n",
              "\n",
              "    [theme=dark] .colab-df-convert:hover {\n",
              "      background-color: #434B5C;\n",
              "      box-shadow: 0px 1px 3px 1px rgba(0, 0, 0, 0.15);\n",
              "      filter: drop-shadow(0px 1px 2px rgba(0, 0, 0, 0.3));\n",
              "      fill: #FFFFFF;\n",
              "    }\n",
              "  </style>\n",
              "\n",
              "      <script>\n",
              "        const buttonEl =\n",
              "          document.querySelector('#df-dc25aaa1-52e7-4d53-a789-c295e62dba87 button.colab-df-convert');\n",
              "        buttonEl.style.display =\n",
              "          google.colab.kernel.accessAllowed ? 'block' : 'none';\n",
              "\n",
              "        async function convertToInteractive(key) {\n",
              "          const element = document.querySelector('#df-dc25aaa1-52e7-4d53-a789-c295e62dba87');\n",
              "          const dataTable =\n",
              "            await google.colab.kernel.invokeFunction('convertToInteractive',\n",
              "                                                     [key], {});\n",
              "          if (!dataTable) return;\n",
              "\n",
              "          const docLinkHtml = 'Like what you see? Visit the ' +\n",
              "            '<a target=\"_blank\" href=https://colab.research.google.com/notebooks/data_table.ipynb>data table notebook</a>'\n",
              "            + ' to learn more about interactive tables.';\n",
              "          element.innerHTML = '';\n",
              "          dataTable['output_type'] = 'display_data';\n",
              "          await google.colab.output.renderOutput(dataTable, element);\n",
              "          const docLink = document.createElement('div');\n",
              "          docLink.innerHTML = docLinkHtml;\n",
              "          element.appendChild(docLink);\n",
              "        }\n",
              "      </script>\n",
              "    </div>\n",
              "  </div>\n",
              "  "
            ]
          },
          "metadata": {},
          "execution_count": 20
        }
      ]
    }
  ]
}